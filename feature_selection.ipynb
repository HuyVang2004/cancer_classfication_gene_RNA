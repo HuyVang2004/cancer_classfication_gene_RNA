{
 "cells": [
  {
   "cell_type": "code",
   "execution_count": 1,
   "metadata": {},
   "outputs": [],
   "source": [
    "import pandas as pd\n",
    "import numpy as np\n",
    "from sklearn.linear_model import LassoCV \n",
    "from sklearn.feature_selection import SelectFromModel \n",
    "from sklearn.model_selection import train_test_split \n",
    "from sklearn.preprocessing import LabelEncoder\n",
    "import joblib\n",
    "from sklearn.feature_selection import mutual_info_classif\n",
    "from sklearn.preprocessing import StandardScaler\n",
    "import numpy as np"
   ]
  },
  {
   "cell_type": "markdown",
   "metadata": {},
   "source": [
    "# Feature Selection"
   ]
  },
  {
   "cell_type": "code",
   "execution_count": 2,
   "metadata": {},
   "outputs": [],
   "source": [
    "df=pd.read_csv('GDCdata\\data_30_cancer.csv')\n",
    "X = df.drop(columns = [\"Unnamed: 0\", \"_primary_disease\"])\n",
    "y = df['_primary_disease'].values"
   ]
  },
  {
   "cell_type": "code",
   "execution_count": 3,
   "metadata": {},
   "outputs": [],
   "source": [
    "X_train, X_test, y_train, y_test = train_test_split(X, y, stratify=y, test_size=0.3, random_state=42)"
   ]
  },
  {
   "cell_type": "markdown",
   "metadata": {},
   "source": [
    "## Information Gain\n"
   ]
  },
  {
   "cell_type": "code",
   "execution_count": 4,
   "metadata": {},
   "outputs": [],
   "source": [
    "scaler = StandardScaler()\n",
    "X_train_scaled = scaler.fit_transform(X_train)"
   ]
  },
  {
   "cell_type": "code",
   "execution_count": 5,
   "metadata": {},
   "outputs": [
    {
     "data": {
      "text/plain": [
       "4278     0.886643\n",
       "14836    0.852830\n",
       "11254    0.850518\n",
       "4665     0.833722\n",
       "8169     0.830028\n",
       "           ...   \n",
       "9969     0.000000\n",
       "13423    0.000000\n",
       "15940    0.000000\n",
       "13419    0.000000\n",
       "6852     0.000000\n",
       "Length: 20530, dtype: float64"
      ]
     },
     "execution_count": 5,
     "metadata": {},
     "output_type": "execute_result"
    }
   ],
   "source": [
    "mutual_info = mutual_info_classif(X_train_scaled, y_train, n_jobs=-1)\n",
    "mutual_info = pd.Series(mutual_info)\n",
    "mutual_info.index = X_train.columns\n",
    "mutual_info.sort_values(ascending=False)"
   ]
  },
  {
   "cell_type": "code",
   "execution_count": 6,
   "metadata": {},
   "outputs": [],
   "source": [
    "mean_ig = np.mean(mutual_info)\n",
    "std_ig = np.std(mutual_info)\n",
    "threshold = mean_ig + std_ig"
   ]
  },
  {
   "cell_type": "code",
   "execution_count": 7,
   "metadata": {},
   "outputs": [],
   "source": [
    "selected_features = mutual_info[mutual_info.values > threshold]\n",
    "X_train_selected = X_train[selected_features.index]\n",
    "X_test_selected = X_test[selected_features.index]"
   ]
  },
  {
   "cell_type": "code",
   "execution_count": 8,
   "metadata": {},
   "outputs": [
    {
     "data": {
      "text/html": [
       "<div>\n",
       "<style scoped>\n",
       "    .dataframe tbody tr th:only-of-type {\n",
       "        vertical-align: middle;\n",
       "    }\n",
       "\n",
       "    .dataframe tbody tr th {\n",
       "        vertical-align: top;\n",
       "    }\n",
       "\n",
       "    .dataframe thead th {\n",
       "        text-align: right;\n",
       "    }\n",
       "</style>\n",
       "<table border=\"1\" class=\"dataframe\">\n",
       "  <thead>\n",
       "    <tr style=\"text-align: right;\">\n",
       "      <th></th>\n",
       "      <th>17</th>\n",
       "      <th>19</th>\n",
       "      <th>24</th>\n",
       "      <th>26</th>\n",
       "      <th>34</th>\n",
       "      <th>38</th>\n",
       "      <th>39</th>\n",
       "      <th>40</th>\n",
       "      <th>44</th>\n",
       "      <th>49</th>\n",
       "      <th>...</th>\n",
       "      <th>20464</th>\n",
       "      <th>20465</th>\n",
       "      <th>20472</th>\n",
       "      <th>20480</th>\n",
       "      <th>20485</th>\n",
       "      <th>20497</th>\n",
       "      <th>20505</th>\n",
       "      <th>20508</th>\n",
       "      <th>20510</th>\n",
       "      <th>20511</th>\n",
       "    </tr>\n",
       "  </thead>\n",
       "  <tbody>\n",
       "    <tr>\n",
       "      <th>9185</th>\n",
       "      <td>7.6765</td>\n",
       "      <td>6.7131</td>\n",
       "      <td>8.2200</td>\n",
       "      <td>11.0616</td>\n",
       "      <td>2.3948</td>\n",
       "      <td>8.8880</td>\n",
       "      <td>1.8300</td>\n",
       "      <td>1.4349</td>\n",
       "      <td>2.9661</td>\n",
       "      <td>6.2471</td>\n",
       "      <td>...</td>\n",
       "      <td>0.0000</td>\n",
       "      <td>7.4209</td>\n",
       "      <td>8.1225</td>\n",
       "      <td>11.0148</td>\n",
       "      <td>14.3361</td>\n",
       "      <td>9.5204</td>\n",
       "      <td>5.0231</td>\n",
       "      <td>8.6700</td>\n",
       "      <td>10.6928</td>\n",
       "      <td>0.0000</td>\n",
       "    </tr>\n",
       "    <tr>\n",
       "      <th>3544</th>\n",
       "      <td>11.2073</td>\n",
       "      <td>7.0139</td>\n",
       "      <td>9.3820</td>\n",
       "      <td>9.2484</td>\n",
       "      <td>4.7020</td>\n",
       "      <td>6.7076</td>\n",
       "      <td>0.0000</td>\n",
       "      <td>0.3885</td>\n",
       "      <td>6.3891</td>\n",
       "      <td>9.4587</td>\n",
       "      <td>...</td>\n",
       "      <td>0.9464</td>\n",
       "      <td>9.6473</td>\n",
       "      <td>10.2841</td>\n",
       "      <td>9.3746</td>\n",
       "      <td>12.8122</td>\n",
       "      <td>9.6289</td>\n",
       "      <td>3.3604</td>\n",
       "      <td>11.3040</td>\n",
       "      <td>11.4745</td>\n",
       "      <td>5.6387</td>\n",
       "    </tr>\n",
       "    <tr>\n",
       "      <th>6274</th>\n",
       "      <td>11.4920</td>\n",
       "      <td>5.5021</td>\n",
       "      <td>9.9265</td>\n",
       "      <td>9.4504</td>\n",
       "      <td>2.1124</td>\n",
       "      <td>7.8443</td>\n",
       "      <td>0.0000</td>\n",
       "      <td>0.6360</td>\n",
       "      <td>6.4035</td>\n",
       "      <td>8.6274</td>\n",
       "      <td>...</td>\n",
       "      <td>1.0759</td>\n",
       "      <td>9.5540</td>\n",
       "      <td>11.6191</td>\n",
       "      <td>10.0427</td>\n",
       "      <td>14.8181</td>\n",
       "      <td>8.4049</td>\n",
       "      <td>0.0000</td>\n",
       "      <td>10.0860</td>\n",
       "      <td>10.0970</td>\n",
       "      <td>7.7803</td>\n",
       "    </tr>\n",
       "    <tr>\n",
       "      <th>5948</th>\n",
       "      <td>7.8140</td>\n",
       "      <td>6.7212</td>\n",
       "      <td>7.0457</td>\n",
       "      <td>7.9516</td>\n",
       "      <td>2.5865</td>\n",
       "      <td>6.7297</td>\n",
       "      <td>0.0000</td>\n",
       "      <td>2.2494</td>\n",
       "      <td>2.4277</td>\n",
       "      <td>10.5015</td>\n",
       "      <td>...</td>\n",
       "      <td>7.7856</td>\n",
       "      <td>11.1102</td>\n",
       "      <td>9.4666</td>\n",
       "      <td>10.6066</td>\n",
       "      <td>13.5944</td>\n",
       "      <td>7.3659</td>\n",
       "      <td>0.7011</td>\n",
       "      <td>9.8282</td>\n",
       "      <td>8.5026</td>\n",
       "      <td>8.8088</td>\n",
       "    </tr>\n",
       "    <tr>\n",
       "      <th>3141</th>\n",
       "      <td>12.0381</td>\n",
       "      <td>6.2966</td>\n",
       "      <td>7.3193</td>\n",
       "      <td>10.0199</td>\n",
       "      <td>1.5054</td>\n",
       "      <td>7.9806</td>\n",
       "      <td>0.4519</td>\n",
       "      <td>3.5443</td>\n",
       "      <td>2.4366</td>\n",
       "      <td>9.0100</td>\n",
       "      <td>...</td>\n",
       "      <td>7.5449</td>\n",
       "      <td>10.6540</td>\n",
       "      <td>8.5956</td>\n",
       "      <td>10.8656</td>\n",
       "      <td>13.9694</td>\n",
       "      <td>6.6324</td>\n",
       "      <td>0.0000</td>\n",
       "      <td>7.3922</td>\n",
       "      <td>9.3577</td>\n",
       "      <td>9.6364</td>\n",
       "    </tr>\n",
       "  </tbody>\n",
       "</table>\n",
       "<p>5 rows × 3145 columns</p>\n",
       "</div>"
      ],
      "text/plain": [
       "           17      19      24       26      34      38      39      40  \\\n",
       "9185   7.6765  6.7131  8.2200  11.0616  2.3948  8.8880  1.8300  1.4349   \n",
       "3544  11.2073  7.0139  9.3820   9.2484  4.7020  6.7076  0.0000  0.3885   \n",
       "6274  11.4920  5.5021  9.9265   9.4504  2.1124  7.8443  0.0000  0.6360   \n",
       "5948   7.8140  6.7212  7.0457   7.9516  2.5865  6.7297  0.0000  2.2494   \n",
       "3141  12.0381  6.2966  7.3193  10.0199  1.5054  7.9806  0.4519  3.5443   \n",
       "\n",
       "          44       49  ...   20464    20465    20472    20480    20485  \\\n",
       "9185  2.9661   6.2471  ...  0.0000   7.4209   8.1225  11.0148  14.3361   \n",
       "3544  6.3891   9.4587  ...  0.9464   9.6473  10.2841   9.3746  12.8122   \n",
       "6274  6.4035   8.6274  ...  1.0759   9.5540  11.6191  10.0427  14.8181   \n",
       "5948  2.4277  10.5015  ...  7.7856  11.1102   9.4666  10.6066  13.5944   \n",
       "3141  2.4366   9.0100  ...  7.5449  10.6540   8.5956  10.8656  13.9694   \n",
       "\n",
       "       20497   20505    20508    20510   20511  \n",
       "9185  9.5204  5.0231   8.6700  10.6928  0.0000  \n",
       "3544  9.6289  3.3604  11.3040  11.4745  5.6387  \n",
       "6274  8.4049  0.0000  10.0860  10.0970  7.7803  \n",
       "5948  7.3659  0.7011   9.8282   8.5026  8.8088  \n",
       "3141  6.6324  0.0000   7.3922   9.3577  9.6364  \n",
       "\n",
       "[5 rows x 3145 columns]"
      ]
     },
     "execution_count": 8,
     "metadata": {},
     "output_type": "execute_result"
    }
   ],
   "source": [
    "X_test_selected.head()"
   ]
  },
  {
   "cell_type": "markdown",
   "metadata": {},
   "source": [
    "# Lasso"
   ]
  },
  {
   "cell_type": "code",
   "execution_count": 9,
   "metadata": {},
   "outputs": [],
   "source": [
    "def lasso_selection(X_train, X_test, y_train):\n",
    "    lasso_cv = LassoCV(cv=15, verbose=2, max_iter=4500, n_jobs=5) \n",
    "    lasso_cv.fit(X_train, y_train)\n",
    "    joblib.dump(lasso_cv, 'GDCdata/data_processed/lasso/lasso_model.pkl')\n",
    "\n",
    "    sfm = SelectFromModel(lasso_cv, prefit=True, threshold=0.05) \n",
    "    X_train_selected = sfm.transform(X_train) \n",
    "    X_test_selected = sfm.transform(X_test) \n",
    "    return X_train_selected, X_test_selected"
   ]
  },
  {
   "cell_type": "code",
   "execution_count": 10,
   "metadata": {},
   "outputs": [],
   "source": [
    "lb = LabelEncoder()\n",
    "y_encoder = lb.fit_transform(y_train)"
   ]
  },
  {
   "cell_type": "code",
   "execution_count": null,
   "metadata": {},
   "outputs": [
    {
     "name": "stderr",
     "output_type": "stream",
     "text": [
      "[Parallel(n_jobs=5)]: Using backend ThreadingBackend with 5 concurrent workers.\n"
     ]
    },
    {
     "name": "stdout",
     "output_type": "stream",
     "text": [
      "Path: 000 out of 100Path: 000 out of 100\n",
      "\n",
      "Path: 001 out of 100\n",
      "Path: 001 out of 100\n",
      "Path: 002 out of 100\n",
      "Path: 002 out of 100\n",
      "Path: 003 out of 100\n",
      "Path: 003 out of 100\n",
      "Path: 004 out of 100\n",
      "Path: 004 out of 100\n",
      "Path: 005 out of 100\n",
      "Path: 005 out of 100\n",
      "Path: 006 out of 100\n",
      "Path: 006 out of 100\n",
      "Path: 007 out of 100\n",
      "Path: 000 out of 100\n",
      "Path: 007 out of 100\n",
      "Path: 008 out of 100\n",
      "Path: 001 out of 100\n",
      "Path: 000 out of 100\n",
      "Path: 008 out of 100\n",
      "Path: 009 out of 100\n",
      "Path: 002 out of 100\n",
      "Path: 001 out of 100\n",
      "Path: 003 out of 100\n",
      "Path: 010 out of 100\n",
      "Path: 009 out of 100\n",
      "Path: 002 out of 100\n",
      "Path: 003 out of 100\n",
      "Path: 004 out of 100\n",
      "Path: 010 out of 100\n",
      "Path: 011 out of 100\n",
      "Path: 004 out of 100\n",
      "Path: 005 out of 100\n",
      "Path: 011 out of 100\n",
      "Path: 012 out of 100\n",
      "Path: 005 out of 100\n",
      "Path: 006 out of 100\n",
      "Path: 013 out of 100\n",
      "Path: 012 out of 100\n",
      "Path: 006 out of 100\n",
      "Path: 007 out of 100\n",
      "Path: 014 out of 100\n",
      "Path: 000 out of 100\n",
      "Path: 013 out of 100\n",
      "Path: 007 out of 100\n",
      "Path: 008 out of 100\n",
      "Path: 001 out of 100\n",
      "Path: 015 out of 100\n",
      "Path: 014 out of 100\n",
      "Path: 008 out of 100\n",
      "Path: 009 out of 100\n",
      "Path: 002 out of 100\n",
      "Path: 009 out of 100\n",
      "Path: 015 out of 100\n",
      "Path: 016 out of 100\n",
      "Path: 010 out of 100\n",
      "Path: 003 out of 100\n",
      "Path: 010 out of 100\n",
      "Path: 011 out of 100\n",
      "Path: 004 out of 100\n",
      "Path: 016 out of 100\n",
      "Path: 017 out of 100\n",
      "Path: 011 out of 100\n",
      "Path: 005 out of 100\n",
      "Path: 012 out of 100\n",
      "Path: 017 out of 100\n",
      "Path: 018 out of 100\n",
      "Path: 006 out of 100\n",
      "Path: 012 out of 100\n",
      "Path: 013 out of 100\n",
      "Path: 018 out of 100\n",
      "Path: 007 out of 100\n",
      "Path: 019 out of 100\n",
      "Path: 013 out of 100\n",
      "Path: 014 out of 100\n",
      "Path: 008 out of 100\n",
      "Path: 019 out of 100\n",
      "Path: 014 out of 100\n",
      "Path: 015 out of 100\n",
      "Path: 020 out of 100\n",
      "Path: 009 out of 100\n",
      "Path: 015 out of 100\n",
      "Path: 020 out of 100\n",
      "Path: 016 out of 100\n",
      "Path: 010 out of 100\n",
      "Path: 021 out of 100\n",
      "Path: 016 out of 100\n",
      "Path: 011 out of 100\n",
      "Path: 021 out of 100\n",
      "Path: 017 out of 100\n",
      "Path: 022 out of 100\n",
      "Path: 012 out of 100\n",
      "Path: 017 out of 100\n",
      "Path: 018 out of 100\n",
      "Path: 022 out of 100\n",
      "Path: 023 out of 100\n",
      "Path: 013 out of 100\n",
      "Path: 018 out of 100\n",
      "Path: 019 out of 100\n",
      "Path: 023 out of 100\n",
      "Path: 014 out of 100\n",
      "Path: 024 out of 100\n",
      "Path: 019 out of 100\n",
      "Path: 020 out of 100\n",
      "Path: 015 out of 100\n",
      "Path: 024 out of 100\n",
      "Path: 025 out of 100\n",
      "Path: 020 out of 100\n",
      "Path: 016 out of 100\n",
      "Path: 021 out of 100\n",
      "Path: 025 out of 100\n",
      "Path: 017 out of 100\n",
      "Path: 021 out of 100\n",
      "Path: 026 out of 100\n",
      "Path: 022 out of 100\n",
      "Path: 026 out of 100\n",
      "Path: 018 out of 100\n",
      "Path: 022 out of 100\n",
      "Path: 023 out of 100\n",
      "Path: 027 out of 100\n",
      "Path: 019 out of 100\n",
      "Path: 023 out of 100\n",
      "Path: 027 out of 100\n",
      "Path: 024 out of 100\n",
      "Path: 028 out of 100\n",
      "Path: 020 out of 100\n",
      "Path: 024 out of 100\n",
      "Path: 025 out of 100\n",
      "Path: 028 out of 100\n",
      "Path: 021 out of 100\n",
      "Path: 025 out of 100\n",
      "Path: 026 out of 100\n",
      "Path: 029 out of 100\n",
      "Path: 022 out of 100\n",
      "Path: 029 out of 100\n",
      "Path: 026 out of 100\n",
      "Path: 023 out of 100\n",
      "Path: 027 out of 100\n",
      "Path: 030 out of 100\n",
      "Path: 027 out of 100\n",
      "Path: 024 out of 100\n",
      "Path: 030 out of 100\n",
      "Path: 028 out of 100\n",
      "Path: 025 out of 100\n",
      "Path: 028 out of 100\n",
      "Path: 029 out of 100\n",
      "Path: 031 out of 100\n",
      "Path: 026 out of 100\n",
      "Path: 031 out of 100\n",
      "Path: 029 out of 100\n",
      "Path: 027 out of 100\n",
      "Path: 030 out of 100\n",
      "Path: 032 out of 100\n",
      "Path: 030 out of 100\n",
      "Path: 028 out of 100\n",
      "Path: 032 out of 100\n",
      "Path: 031 out of 100\n",
      "Path: 029 out of 100\n",
      "Path: 031 out of 100\n",
      "Path: 033 out of 100\n",
      "Path: 030 out of 100\n",
      "Path: 033 out of 100\n",
      "Path: 032 out of 100\n",
      "Path: 032 out of 100\n",
      "Path: 031 out of 100\n",
      "Path: 034 out of 100\n",
      "Path: 033 out of 100\n",
      "Path: 034 out of 100\n",
      "Path: 032 out of 100\n",
      "Path: 033 out of 100\n",
      "Path: 035 out of 100\n",
      "Path: 033 out of 100\n",
      "Path: 034 out of 100\n",
      "Path: 035 out of 100\n",
      "Path: 034 out of 100\n",
      "Path: 036 out of 100\n",
      "Path: 034 out of 100\n",
      "Path: 035 out of 100\n",
      "Path: 035 out of 100\n",
      "Path: 036 out of 100\n",
      "Path: 035 out of 100\n",
      "Path: 037 out of 100\n",
      "Path: 036 out of 100\n",
      "Path: 036 out of 100\n",
      "Path: 036 out of 100\n",
      "Path: 037 out of 100\n",
      "Path: 038 out of 100\n",
      "Path: 037 out of 100\n",
      "Path: 037 out of 100\n",
      "Path: 037 out of 100\n",
      "Path: 038 out of 100\n",
      "Path: 038 out of 100\n",
      "Path: 039 out of 100\n",
      "Path: 038 out of 100\n",
      "Path: 038 out of 100\n",
      "Path: 039 out of 100\n",
      "Path: 039 out of 100\n",
      "Path: 040 out of 100\n",
      "Path: 039 out of 100\n",
      "Path: 039 out of 100\n",
      "Path: 040 out of 100\n",
      "Path: 040 out of 100\n",
      "Path: 041 out of 100\n",
      "Path: 040 out of 100\n",
      "Path: 040 out of 100\n",
      "Path: 041 out of 100\n",
      "Path: 041 out of 100\n",
      "Path: 041 out of 100\n",
      "Path: 042 out of 100\n",
      "Path: 041 out of 100\n",
      "Path: 042 out of 100\n",
      "Path: 042 out of 100\n",
      "Path: 042 out of 100\n",
      "Path: 042 out of 100\n",
      "Path: 043 out of 100\n",
      "Path: 043 out of 100\n",
      "Path: 043 out of 100\n",
      "Path: 043 out of 100\n",
      "Path: 043 out of 100\n",
      "Path: 044 out of 100\n",
      "Path: 044 out of 100\n",
      "Path: 044 out of 100\n",
      "Path: 044 out of 100\n",
      "Path: 044 out of 100\n",
      "Path: 045 out of 100\n",
      "Path: 045 out of 100\n",
      "Path: 045 out of 100\n",
      "Path: 045 out of 100\n",
      "Path: 045 out of 100\n",
      "Path: 046 out of 100\n",
      "Path: 046 out of 100\n",
      "Path: 046 out of 100\n",
      "Path: 046 out of 100\n",
      "Path: 046 out of 100\n",
      "Path: 047 out of 100\n",
      "Path: 047 out of 100\n",
      "Path: 047 out of 100\n",
      "Path: 047 out of 100\n",
      "Path: 047 out of 100\n",
      "Path: 048 out of 100\n",
      "Path: 048 out of 100\n",
      "Path: 048 out of 100\n",
      "Path: 048 out of 100\n",
      "Path: 049 out of 100\n",
      "Path: 049 out of 100\n",
      "Path: 049 out of 100\n",
      "Path: 048 out of 100\n",
      "Path: 049 out of 100\n",
      "Path: 050 out of 100\n",
      "Path: 050 out of 100\n",
      "Path: 050 out of 100\n",
      "Path: 049 out of 100\n",
      "Path: 050 out of 100\n",
      "Path: 051 out of 100\n",
      "Path: 050 out of 100\n",
      "Path: 051 out of 100\n",
      "Path: 051 out of 100\n",
      "Path: 051 out of 100\n",
      "Path: 051 out of 100\n",
      "Path: 052 out of 100\n",
      "Path: 052 out of 100\n",
      "Path: 052 out of 100\n",
      "Path: 052 out of 100\n",
      "Path: 052 out of 100\n",
      "Path: 053 out of 100\n",
      "Path: 053 out of 100\n",
      "Path: 053 out of 100\n",
      "Path: 054 out of 100\n",
      "Path: 053 out of 100\n",
      "Path: 053 out of 100\n",
      "Path: 054 out of 100\n",
      "Path: 055 out of 100\n",
      "Path: 054 out of 100\n",
      "Path: 054 out of 100\n",
      "Path: 054 out of 100\n",
      "Path: 055 out of 100\n",
      "Path: 056 out of 100\n",
      "Path: 055 out of 100\n",
      "Path: 055 out of 100\n",
      "Path: 055 out of 100\n",
      "Path: 056 out of 100\n",
      "Path: 057 out of 100\n",
      "Path: 056 out of 100\n",
      "Path: 056 out of 100\n",
      "Path: 057 out of 100\n",
      "Path: 056 out of 100\n",
      "Path: 058 out of 100\n",
      "Path: 057 out of 100\n",
      "Path: 057 out of 100\n",
      "Path: 058 out of 100\n",
      "Path: 058 out of 100\n",
      "Path: 057 out of 100\n",
      "Path: 059 out of 100\n",
      "Path: 059 out of 100\n",
      "Path: 058 out of 100\n",
      "Path: 059 out of 100\n",
      "Path: 059 out of 100\n",
      "Path: 058 out of 100\n",
      "Path: 060 out of 100\n",
      "Path: 060 out of 100\n",
      "Path: 060 out of 100\n",
      "Path: 060 out of 100\n",
      "Path: 059 out of 100\n",
      "Path: 061 out of 100\n",
      "Path: 061 out of 100\n",
      "Path: 060 out of 100\n",
      "Path: 061 out of 100\n",
      "Path: 061 out of 100\n",
      "Path: 062 out of 100\n",
      "Path: 062 out of 100\n",
      "Path: 061 out of 100\n",
      "Path: 063 out of 100\n",
      "Path: 062 out of 100\n",
      "Path: 062 out of 100\n",
      "Path: 062 out of 100\n",
      "Path: 063 out of 100\n",
      "Path: 063 out of 100\n",
      "Path: 064 out of 100\n",
      "Path: 063 out of 100\n",
      "Path: 064 out of 100\n",
      "Path: 063 out of 100\n",
      "Path: 064 out of 100\n",
      "Path: 065 out of 100\n",
      "Path: 065 out of 100\n",
      "Path: 064 out of 100\n",
      "Path: 064 out of 100\n",
      "Path: 065 out of 100\n",
      "Path: 066 out of 100\n",
      "Path: 065 out of 100\n",
      "Path: 066 out of 100\n",
      "Path: 065 out of 100\n",
      "Path: 066 out of 100\n",
      "Path: 067 out of 100\n",
      "Path: 066 out of 100\n",
      "Path: 067 out of 100\n",
      "Path: 066 out of 100\n",
      "Path: 067 out of 100\n",
      "Path: 067 out of 100\n"
     ]
    },
    {
     "name": "stderr",
     "output_type": "stream",
     "text": [
      "d:\\ancocda3\\Lib\\site-packages\\sklearn\\linear_model\\_coordinate_descent.py:683: ConvergenceWarning: Objective did not converge. You might want to increase the number of iterations. Duality gap: 98.02601521277393, tolerance: 53.962280831689206\n",
      "  model = cd_fast.enet_coordinate_descent_gram(\n"
     ]
    },
    {
     "name": "stdout",
     "output_type": "stream",
     "text": [
      "Path: 068 out of 100\n",
      "Path: 067 out of 100\n",
      "Path: 068 out of 100\n",
      "Path: 068 out of 100\n",
      "Path: 068 out of 100\n"
     ]
    },
    {
     "name": "stderr",
     "output_type": "stream",
     "text": [
      "d:\\ancocda3\\Lib\\site-packages\\sklearn\\linear_model\\_coordinate_descent.py:683: ConvergenceWarning: Objective did not converge. You might want to increase the number of iterations. Duality gap: 107.18093508893799, tolerance: 53.962280831689206\n",
      "  model = cd_fast.enet_coordinate_descent_gram(\n"
     ]
    },
    {
     "name": "stdout",
     "output_type": "stream",
     "text": [
      "Path: 069 out of 100\n",
      "Path: 068 out of 100\n"
     ]
    },
    {
     "name": "stderr",
     "output_type": "stream",
     "text": [
      "d:\\ancocda3\\Lib\\site-packages\\sklearn\\linear_model\\_coordinate_descent.py:683: ConvergenceWarning: Objective did not converge. You might want to increase the number of iterations. Duality gap: 97.50095245712146, tolerance: 53.55096543715847\n",
      "  model = cd_fast.enet_coordinate_descent_gram(\n"
     ]
    },
    {
     "name": "stdout",
     "output_type": "stream",
     "text": [
      "Path: 069 out of 100\n"
     ]
    },
    {
     "name": "stderr",
     "output_type": "stream",
     "text": [
      "d:\\ancocda3\\Lib\\site-packages\\sklearn\\linear_model\\_coordinate_descent.py:683: ConvergenceWarning: Objective did not converge. You might want to increase the number of iterations. Duality gap: 61.06340801901388, tolerance: 53.6755083320686\n",
      "  model = cd_fast.enet_coordinate_descent_gram(\n"
     ]
    },
    {
     "name": "stdout",
     "output_type": "stream",
     "text": [
      "Path: 069 out of 100\n",
      "Path: 069 out of 100\n",
      "Path: 069 out of 100\n"
     ]
    },
    {
     "name": "stderr",
     "output_type": "stream",
     "text": [
      "d:\\ancocda3\\Lib\\site-packages\\sklearn\\linear_model\\_coordinate_descent.py:683: ConvergenceWarning: Objective did not converge. You might want to increase the number of iterations. Duality gap: 63.432034392259084, tolerance: 53.962280831689206\n",
      "  model = cd_fast.enet_coordinate_descent_gram(\n"
     ]
    },
    {
     "name": "stdout",
     "output_type": "stream",
     "text": [
      "Path: 070 out of 100\n",
      "Path: 070 out of 100\n",
      "Path: 070 out of 100\n"
     ]
    },
    {
     "name": "stderr",
     "output_type": "stream",
     "text": [
      "d:\\ancocda3\\Lib\\site-packages\\sklearn\\linear_model\\_coordinate_descent.py:683: ConvergenceWarning: Objective did not converge. You might want to increase the number of iterations. Duality gap: 57.00330314078019, tolerance: 53.6755083320686\n",
      "  model = cd_fast.enet_coordinate_descent_gram(\n"
     ]
    },
    {
     "name": "stdout",
     "output_type": "stream",
     "text": [
      "Path: 070 out of 100\n"
     ]
    },
    {
     "name": "stderr",
     "output_type": "stream",
     "text": [
      "d:\\ancocda3\\Lib\\site-packages\\sklearn\\linear_model\\_coordinate_descent.py:683: ConvergenceWarning: Objective did not converge. You might want to increase the number of iterations. Duality gap: 113.16783033625688, tolerance: 53.602467901047206\n",
      "  model = cd_fast.enet_coordinate_descent_gram(\n"
     ]
    },
    {
     "name": "stdout",
     "output_type": "stream",
     "text": [
      "Path: 070 out of 100\n"
     ]
    },
    {
     "name": "stderr",
     "output_type": "stream",
     "text": [
      "d:\\ancocda3\\Lib\\site-packages\\sklearn\\linear_model\\_coordinate_descent.py:683: ConvergenceWarning: Objective did not converge. You might want to increase the number of iterations. Duality gap: 103.00776473482256, tolerance: 53.962280831689206\n",
      "  model = cd_fast.enet_coordinate_descent_gram(\n"
     ]
    },
    {
     "name": "stdout",
     "output_type": "stream",
     "text": [
      "Path: 071 out of 100\n",
      "Path: 071 out of 100\n",
      "Path: 071 out of 100\n",
      "Path: 071 out of 100\n"
     ]
    },
    {
     "name": "stderr",
     "output_type": "stream",
     "text": [
      "d:\\ancocda3\\Lib\\site-packages\\sklearn\\linear_model\\_coordinate_descent.py:683: ConvergenceWarning: Objective did not converge. You might want to increase the number of iterations. Duality gap: 113.4653677266324, tolerance: 53.55096543715847\n",
      "  model = cd_fast.enet_coordinate_descent_gram(\n"
     ]
    },
    {
     "name": "stdout",
     "output_type": "stream",
     "text": [
      "Path: 071 out of 100\n",
      "Path: 072 out of 100\n",
      "Path: 072 out of 100\n"
     ]
    },
    {
     "name": "stderr",
     "output_type": "stream",
     "text": [
      "d:\\ancocda3\\Lib\\site-packages\\sklearn\\linear_model\\_coordinate_descent.py:683: ConvergenceWarning: Objective did not converge. You might want to increase the number of iterations. Duality gap: 91.07854819475324, tolerance: 53.962280831689206\n",
      "  model = cd_fast.enet_coordinate_descent_gram(\n"
     ]
    },
    {
     "name": "stdout",
     "output_type": "stream",
     "text": [
      "Path: 072 out of 100\n",
      "Path: 072 out of 100\n"
     ]
    },
    {
     "name": "stderr",
     "output_type": "stream",
     "text": [
      "d:\\ancocda3\\Lib\\site-packages\\sklearn\\linear_model\\_coordinate_descent.py:683: ConvergenceWarning: Objective did not converge. You might want to increase the number of iterations. Duality gap: 125.98441850610834, tolerance: 53.55096543715847\n",
      "  model = cd_fast.enet_coordinate_descent_gram(\n"
     ]
    },
    {
     "name": "stdout",
     "output_type": "stream",
     "text": [
      "Path: 072 out of 100\n",
      "Path: 073 out of 100\n"
     ]
    },
    {
     "name": "stderr",
     "output_type": "stream",
     "text": [
      "d:\\ancocda3\\Lib\\site-packages\\sklearn\\linear_model\\_coordinate_descent.py:683: ConvergenceWarning: Objective did not converge. You might want to increase the number of iterations. Duality gap: 77.61966392608883, tolerance: 53.6755083320686\n",
      "  model = cd_fast.enet_coordinate_descent_gram(\n"
     ]
    },
    {
     "name": "stdout",
     "output_type": "stream",
     "text": [
      "Path: 073 out of 100\n"
     ]
    },
    {
     "name": "stderr",
     "output_type": "stream",
     "text": [
      "d:\\ancocda3\\Lib\\site-packages\\sklearn\\linear_model\\_coordinate_descent.py:683: ConvergenceWarning: Objective did not converge. You might want to increase the number of iterations. Duality gap: 68.14961062620569, tolerance: 53.962280831689206\n",
      "  model = cd_fast.enet_coordinate_descent_gram(\n"
     ]
    },
    {
     "name": "stdout",
     "output_type": "stream",
     "text": [
      "Path: 073 out of 100\n",
      "Path: 073 out of 100\n",
      "Path: 073 out of 100\n"
     ]
    },
    {
     "name": "stderr",
     "output_type": "stream",
     "text": [
      "d:\\ancocda3\\Lib\\site-packages\\sklearn\\linear_model\\_coordinate_descent.py:683: ConvergenceWarning: Objective did not converge. You might want to increase the number of iterations. Duality gap: 85.31458890794602, tolerance: 53.602467901047206\n",
      "  model = cd_fast.enet_coordinate_descent_gram(\n"
     ]
    },
    {
     "name": "stdout",
     "output_type": "stream",
     "text": [
      "Path: 074 out of 100\n",
      "Path: 074 out of 100\n",
      "Path: 074 out of 100\n",
      "Path: 074 out of 100\n",
      "Path: 074 out of 100\n",
      "Path: 075 out of 100\n"
     ]
    },
    {
     "name": "stderr",
     "output_type": "stream",
     "text": [
      "d:\\ancocda3\\Lib\\site-packages\\sklearn\\linear_model\\_coordinate_descent.py:683: ConvergenceWarning: Objective did not converge. You might want to increase the number of iterations. Duality gap: 134.95497017962043, tolerance: 53.6755083320686\n",
      "  model = cd_fast.enet_coordinate_descent_gram(\n"
     ]
    },
    {
     "name": "stdout",
     "output_type": "stream",
     "text": [
      "Path: 075 out of 100\n",
      "Path: 075 out of 100\n"
     ]
    },
    {
     "name": "stderr",
     "output_type": "stream",
     "text": [
      "d:\\ancocda3\\Lib\\site-packages\\sklearn\\linear_model\\_coordinate_descent.py:683: ConvergenceWarning: Objective did not converge. You might want to increase the number of iterations. Duality gap: 120.63963507841981, tolerance: 53.962280831689206\n",
      "  model = cd_fast.enet_coordinate_descent_gram(\n"
     ]
    },
    {
     "name": "stdout",
     "output_type": "stream",
     "text": [
      "Path: 075 out of 100\n"
     ]
    },
    {
     "name": "stderr",
     "output_type": "stream",
     "text": [
      "d:\\ancocda3\\Lib\\site-packages\\sklearn\\linear_model\\_coordinate_descent.py:683: ConvergenceWarning: Objective did not converge. You might want to increase the number of iterations. Duality gap: 88.24524131868384, tolerance: 53.55096543715847\n",
      "  model = cd_fast.enet_coordinate_descent_gram(\n"
     ]
    },
    {
     "name": "stdout",
     "output_type": "stream",
     "text": [
      "Path: 075 out of 100\n",
      "Path: 076 out of 100\n"
     ]
    }
   ],
   "source": [
    "X_train_selected_ls, X_test_selected_ls = lasso_selection(X_train_selected, X_test_selected, y_encoder)"
   ]
  },
  {
   "cell_type": "code",
   "execution_count": null,
   "metadata": {},
   "outputs": [],
   "source": [
    "data_train = pd.DataFrame(X_train_selected_ls)\n",
    "data_train['label'] = y_train\n",
    "data_train.to_csv(r'GDCdata\\data_processed\\lasso\\train\\data_train_ls.csv')\n"
   ]
  },
  {
   "cell_type": "code",
   "execution_count": null,
   "metadata": {},
   "outputs": [],
   "source": [
    "data_test = pd.DataFrame(X_test_selected_ls)\n",
    "data_test['label'] = y_test\n",
    "data_test.to_csv(r'GDCdata\\data_processed\\lasso\\test\\data_test_ls.csv')"
   ]
  }
 ],
 "metadata": {
  "kernelspec": {
   "display_name": "base",
   "language": "python",
   "name": "python3"
  },
  "language_info": {
   "codemirror_mode": {
    "name": "ipython",
    "version": 3
   },
   "file_extension": ".py",
   "mimetype": "text/x-python",
   "name": "python",
   "nbconvert_exporter": "python",
   "pygments_lexer": "ipython3",
   "version": "3.11.7"
  }
 },
 "nbformat": 4,
 "nbformat_minor": 2
}
